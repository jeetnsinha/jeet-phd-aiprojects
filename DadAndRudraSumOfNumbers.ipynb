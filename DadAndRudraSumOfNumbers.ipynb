{
  "nbformat": 4,
  "nbformat_minor": 0,
  "metadata": {
    "colab": {
      "provenance": [],
      "authorship_tag": "ABX9TyNclE8FkSk1fSpNbaZJKab7",
      "include_colab_link": true
    },
    "kernelspec": {
      "name": "python3",
      "display_name": "Python 3"
    },
    "language_info": {
      "name": "python"
    }
  },
  "cells": [
    {
      "cell_type": "markdown",
      "metadata": {
        "id": "view-in-github",
        "colab_type": "text"
      },
      "source": [
        "<a href=\"https://colab.research.google.com/github/jeetnsinha/jeet-phd-aiprojects/blob/main/DadAndRudraSumOfNumbers.ipynb\" target=\"_parent\"><img src=\"https://colab.research.google.com/assets/colab-badge.svg\" alt=\"Open In Colab\"/></a>"
      ]
    },
    {
      "cell_type": "code",
      "execution_count": 17,
      "metadata": {
        "colab": {
          "base_uri": "https://localhost:8080/"
        },
        "id": "I3F0FVq7nD0P",
        "outputId": "5599f1a9-0871-4734-fd90-a151de0549d3"
      },
      "outputs": [
        {
          "output_type": "stream",
          "name": "stdout",
          "text": [
            "jeet  enter  the  first  number: 12\n",
            "Rudra, enter the second number: 4\n",
            "The sum of 12 and 4 is: 16\n"
          ]
        }
      ],
      "source": [
        "# Prompt the user to enter the first number\n",
        "num1_str = input(\"jeet  enter  the  first  number: \")\n",
        "\n",
        "# Prompt the user to enter the second number\n",
        "num2_str = input(\"Rudra, enter the second number: \")\n",
        "\n",
        "# Convert the input strings to numerical types (integers or floats)\n",
        "# Use int() if you expect whole numbers, or float() for decimal numbers\n",
        "try:\n",
        "    num1 = int(num1_str)  # Using float to handle both integers and decimals\n",
        "    num2 = int(num2_str)\n",
        "except ValueError:\n",
        "    print(\"No Rudra, not a letter Please enter only numbers.\")\n",
        "else:\n",
        "    # Calculate the sum\n",
        "    sum_result = num1 + num2\n",
        "\n",
        "    # Display the sum\n",
        "    print(f\"The sum of {num1} and {num2} is: {sum_result}\")"
      ]
    }
  ]
}